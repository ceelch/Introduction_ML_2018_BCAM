{
 "cells": [
  {
   "cell_type": "markdown",
   "metadata": {},
   "source": [
    "# Regression: Multiple Linear Regression\n",
    "\n",
    "Introduction to Machine Learning, BCAM & UPV/EHU course, by Carlos Cernuda, Ekhine Irurozki and Aritz Perez.\n",
    "\n",
    "\n",
    "## References \n",
    "\n",
    "* James, G., Witten, D., Hastie, T., & Tibshirani, R. (2013). \n",
    "An introduction to statistical learning (Vol. 112). New York: springer.\n",
    "* Data sets: http://www-bcf.usc.edu/~gareth/ISL/data.html\n",
    "* SCIKIT-LEARN library example http://scikit-learn.org\n",
    "* References Jupyter notebooks:\n",
    "    - R. Jordan Crouser at Smith College for SDS293: Machine Learning (Spring 2016)\n",
    "    http://www.science.smith.edu/~jcrouser/SDS293/labs/lab10-py.html\n",
    "    - General Assembly's Data Science course in Washington, DC\n",
    "    https://github.com/justmarkham/DAT4\n",
    "    - An Introduction to Statistical Learning (James, Witten, Hastie, Tibshirani, 2013) adapted to Python code\n",
    "    https://github.com/JWarmenhoven/ISLR-python"
   ]
  },
  {
   "cell_type": "markdown",
   "metadata": {},
   "source": [
    "## Python Libraries"
   ]
  },
  {
   "cell_type": "code",
   "execution_count": null,
   "metadata": {},
   "outputs": [],
   "source": [
    "##########################################################\n",
    "import numpy as np #scientific computing (n-dim arrays, etc)\n",
    "import pandas as pd #data analysis library\n",
    "##########################################################\n",
    "# Plots:\n",
    "import matplotlib.pyplot as plt \n",
    "import matplotlib.pylab as pylab\n",
    "from mpl_toolkits.mplot3d import axes3d\n",
    "import seaborn as sns #visualization library based on matplotlib\n",
    "%matplotlib inline\n",
    "plt.style.use(['seaborn-white'])   \n",
    "params = {'legend.fontsize': 'xx-large',\n",
    "              'figure.figsize': (15, 5),\n",
    "              'axes.labelsize': 'xx-large',\n",
    "              'axes.titlesize':'xx-large',\n",
    "              'xtick.labelsize':'xx-large',\n",
    "              'ytick.labelsize':'xx-large'}    \n",
    "pylab.rcParams.update(params)  #fix the parameters for the plots\n",
    "\n",
    "pd.set_option('display.notebook_repr_html', False)\n",
    "##########################################################\n",
    "# SKLEARN: scikit-learn machine learning tools\n",
    "import sklearn.linear_model as skl_lm ###linear model regression\n",
    "##########################################################\n",
    "np.random.seed(0)"
   ]
  },
  {
   "cell_type": "markdown",
   "metadata": {},
   "source": [
    "## Data set: Advertising\n",
    "\n",
    "Advertising data set: \n",
    "sales of a product in relation with spending money on advertising TV, newspaper, radio in 200 different markets. \n",
    "- Sales: thousands of units\n",
    "- TV, radio, newspaper: thousands of dollars"
   ]
  },
  {
   "cell_type": "code",
   "execution_count": null,
   "metadata": {},
   "outputs": [],
   "source": [
    "advertising = pd.read_csv('dataset/Advertising.csv', usecols=[1,2,3,4])"
   ]
  },
  {
   "cell_type": "markdown",
   "metadata": {},
   "source": [
    "## Coefficient estimates from data: least squares fitting\n",
    "\n",
    "Predict sales by considering as predictor variable the TV and radio advertisiment budget. The linear model will be: \n",
    "\n",
    "$$\n",
    "sales \\sim \\beta_0 +\\beta_1 radio +\\beta_2 TV\n",
    "$$\n",
    "\n",
    "We are going to calculate the estimates coefficients as before and to plot the resulting plane considering the two predictor variables."
   ]
  },
  {
   "cell_type": "code",
   "execution_count": null,
   "metadata": {},
   "outputs": [],
   "source": [
    "# Predictor and response data\n",
    "x_predictors = advertising[['radio', 'TV']].as_matrix()\n",
    "y_sales = advertising.sales\n",
    "\n",
    "# Load the model\n",
    "regr_model = skl_lm.LinearRegression()\n",
    "regr_model.fit(x_predictors,y_sales)\n",
    "\n",
    "\n",
    "beta_0 = regr_model.intercept_\n",
    "beta_1 = regr_model.coef_[0]\n",
    "beta_2 = regr_model.coef_[1]\n",
    "\n",
    "print('beta_0', beta_0)\n",
    "print('beta_1', beta_1)\n",
    "print('beta_2', beta_2)"
   ]
  },
  {
   "cell_type": "code",
   "execution_count": null,
   "metadata": {},
   "outputs": [],
   "source": [
    "# Prepare the values to be predicted with the model. \n",
    "# What are the min/max values of Radio & TV?\n",
    "# Use these values to set up the grid for plotting.\n",
    "advertising[['radio', 'TV']].describe()"
   ]
  },
  {
   "cell_type": "code",
   "execution_count": null,
   "metadata": {},
   "outputs": [],
   "source": [
    "# Create a coordinate grid\n",
    "Radio = np.arange(0,50) #Return evenly spaced values within a given interval.\n",
    "TV = np.arange(0,300)\n",
    "\n",
    "X1_Radio, X2_TV = np.meshgrid(Radio, TV, indexing='xy')\n",
    "Z_model = np.zeros((TV.size, Radio.size))\n",
    "\n",
    "for (i,j),v in np.ndenumerate(Z_model):\n",
    "        Z_model[i,j] =(beta_0 + X1_Radio[i,j]*beta_1 + X2_TV[i,j]*beta_2)"
   ]
  },
  {
   "cell_type": "code",
   "execution_count": null,
   "metadata": {},
   "outputs": [],
   "source": [
    "# Create plot\n",
    "fig = plt.figure(figsize=(10,6))\n",
    "fig.suptitle('Sales ~ beta_0 + beta_1 Radio + beta_2 TV Advertising', fontsize=20)\n",
    "ax = axes3d.Axes3D(fig)\n",
    "# Model\n",
    "ax.plot_surface(X1_Radio, X2_TV, Z_model, rstride=10, cstride=5, alpha=0.4)\n",
    "# Data \n",
    "ax.scatter3D(advertising.radio, advertising.TV, advertising.sales, c='r')\n",
    "\n",
    "ax.set_xlabel('Radio')\n",
    "ax.set_xlim(0,50)\n",
    "ax.set_ylabel('TV')\n",
    "ax.set_ylim(ymin=0)\n",
    "ax.set_zlabel('Sales');"
   ]
  },
  {
   "cell_type": "markdown",
   "metadata": {},
   "source": [
    "## Multiple Regression: linear without additive assumptions\n",
    "\n",
    "Predict sales by considering as predictor variable the TV and radio advertisiment budget, but including also a relation between both quantities. \n",
    "\n",
    "The linear model will be: \n",
    "\n",
    "$$\n",
    "sales \\sim \\beta_0 +\\beta_1 radio +\\beta_2 TV + \\beta_3 radio * TV\n",
    "$$\n",
    "\n",
    "We are going to calculate the estimates coefficients as before and to plot the resulting linear plane considering the two predictor variables Radio and TV."
   ]
  },
  {
   "cell_type": "code",
   "execution_count": null,
   "metadata": {},
   "outputs": [],
   "source": [
    "# Predictor and response data. \n",
    "\n",
    "# 3 predictors\n",
    "x_radio = advertising[['radio']].values.reshape(-1, 1)\n",
    "x_TV = advertising[['TV']].values.reshape(-1, 1)\n",
    "x_RadxTV = np.multiply(x_radio, x_TV)\n",
    "\n",
    "# Include all in one matrix with 3 columns\n",
    "x_1 = np.concatenate((x_radio, x_TV), axis=1)\n",
    "x_predictors = np.concatenate((x_1, x_RadxTV), axis=1)\n",
    "\n",
    "# Response\n",
    "y_sales = advertising.sales\n",
    "\n",
    "# Load the model\n",
    "regr_model = skl_lm.LinearRegression()\n",
    "regr_model.fit(x_predictors,y_sales)\n",
    "\n",
    "# Coefficient estimates\n",
    "beta_0 = regr_model.intercept_\n",
    "print('beta_0', beta_0)\n",
    "\n",
    "#Vector with 3 coefficients\n",
    "beta_1 = regr_model.coef_[0]\n",
    "beta_2 = regr_model.coef_[1]\n",
    "beta_3 = regr_model.coef_[2]\n",
    "\n",
    "print('beta_1', beta_1)\n",
    "print('beta_2', beta_2)\n",
    "print('beta_3', beta_3)"
   ]
  },
  {
   "cell_type": "code",
   "execution_count": null,
   "metadata": {},
   "outputs": [],
   "source": [
    "# Create a coordinate grid (same as before)\n",
    "#Radio = np.arange(0,50)\n",
    "#TV = np.arange(0,300)\n",
    "\n",
    "#X1_Radio, X2_TV = np.meshgrid(Radio, TV, indexing='xy')\n",
    "Z_model_mix = np.zeros((TV.size, Radio.size))\n",
    "\n",
    "for (i,j),v in np.ndenumerate(Z_model_mix):\n",
    "        Z_model_mix[i,j] =(beta_0 + X1_Radio[i,j]*beta_1 + X2_TV[i,j]*beta_2 + X1_Radio[i,j]*X2_TV[i,j]*beta_3)"
   ]
  },
  {
   "cell_type": "code",
   "execution_count": null,
   "metadata": {},
   "outputs": [],
   "source": [
    "# Create plot\n",
    "fig = plt.figure(figsize=(10,6))\n",
    "fig.suptitle('Sales ~ beta_0 + beta_1 Radio + beta_2 TV + beta_3 TV*Radio', fontsize=20)\n",
    "ax = axes3d.Axes3D(fig)\n",
    "\n",
    "# Model\n",
    "ax.plot_surface(X1_Radio, X2_TV, Z_model_mix, rstride=10, cstride=5, alpha=0.4)\n",
    "# Data \n",
    "ax.scatter3D(advertising.radio, advertising.TV, advertising.sales, c='r')\n",
    "\n",
    "ax.set_xlabel('Radio')\n",
    "ax.set_xlim(0,50)\n",
    "ax.set_ylabel('TV')\n",
    "ax.set_ylim(ymin=0)\n",
    "ax.set_zlabel('Sales');"
   ]
  }
 ],
 "metadata": {
  "kernelspec": {
   "display_name": "Python 3",
   "language": "python",
   "name": "python3"
  },
  "language_info": {
   "codemirror_mode": {
    "name": "ipython",
    "version": 3
   },
   "file_extension": ".py",
   "mimetype": "text/x-python",
   "name": "python",
   "nbconvert_exporter": "python",
   "pygments_lexer": "ipython3",
   "version": "3.6.5"
  }
 },
 "nbformat": 4,
 "nbformat_minor": 2
}
