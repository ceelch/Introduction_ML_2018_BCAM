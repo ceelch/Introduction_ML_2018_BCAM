{
 "cells": [
  {
   "cell_type": "markdown",
   "metadata": {},
   "source": [
    "# Regression: Simple Linear Regression\n",
    "\n",
    "Introduction to Machine Learning, BCAM & UPV/EHU course, by Carlos Cernuda, Ekhine Irurozki and Aritz Perez.\n",
    "\n",
    "## References \n",
    "\n",
    "* James, G., Witten, D., Hastie, T., & Tibshirani, R. (2013). \n",
    "An introduction to statistical learning (Vol. 112). New York: springer.\n",
    "* Data sets: http://www-bcf.usc.edu/~gareth/ISL/data.html\n",
    "* SCIKIT-LEARN library example http://scikit-learn.org\n",
    "* References Jupyter notebooks:\n",
    "    - R. Jordan Crouser at Smith College for SDS293: Machine Learning (Spring 2016)\n",
    "    http://www.science.smith.edu/~jcrouser/SDS293/labs/lab10-py.html\n",
    "    - General Assembly's Data Science course in Washington, DC\n",
    "    https://github.com/justmarkham/DAT4\n",
    "    - An Introduction to Statistical Learning (James, Witten, Hastie, Tibshirani, 2013) adapted to Python code\n",
    "    https://github.com/JWarmenhoven/ISLR-python\n",
    "\n",
    "## Python: check that the python version is correct (Pyhton 3)"
   ]
  },
  {
   "cell_type": "code",
   "execution_count": null,
   "metadata": {
    "scrolled": false
   },
   "outputs": [],
   "source": [
    "#Path correct\n",
    "import sys\n",
    "from pprint import pprint as p\n",
    "p(sys.path)\n",
    "\n",
    "#Python 3 \n",
    "a = 5/2\n",
    "print(a)"
   ]
  },
  {
   "cell_type": "markdown",
   "metadata": {},
   "source": [
    "## Python Libraries"
   ]
  },
  {
   "cell_type": "code",
   "execution_count": null,
   "metadata": {},
   "outputs": [],
   "source": [
    "##########################################################\n",
    "import numpy as np #scientific computing (n-dim arrays, etc)\n",
    "import pandas as pd #data analysis library\n",
    "##########################################################\n",
    "# Plots:\n",
    "import matplotlib.pyplot as plt \n",
    "import matplotlib.pylab as pylab\n",
    "import seaborn as sns #visualization library based on matplotlib\n",
    "%matplotlib inline\n",
    "plt.style.use(['seaborn-white'])   \n",
    "params = {'legend.fontsize': 'xx-large',\n",
    "              'figure.figsize': (15, 5),\n",
    "              'axes.labelsize': 'xx-large',\n",
    "              'axes.titlesize':'xx-large',\n",
    "              'xtick.labelsize':'xx-large',\n",
    "              'ytick.labelsize':'xx-large'}    \n",
    "pylab.rcParams.update(params)  #fix the parameters for the plots\n",
    "\n",
    "pd.set_option('display.notebook_repr_html', False)\n",
    "##########################################################\n",
    "# SKLEARN: scikit-learn machine learning tools\n",
    "from sklearn.preprocessing import scale #Standardize a dataset \n",
    "import sklearn.linear_model as skl_lm #linear model regression\n",
    "##########################################################\n",
    "# STATSMODELS: provides classes and functions for the estimation of many different statistical models, \n",
    "# as well as for conducting statistical tests, and statistical data exploration.\n",
    "import statsmodels.api as sm\n",
    "import statsmodels.formula.api as smf\n",
    "##########################################################\n",
    "np.random.seed(0)"
   ]
  },
  {
   "cell_type": "markdown",
   "metadata": {},
   "source": [
    "## Data set: Advertising\n",
    "\n",
    "Advertising data set: \n",
    "sales of a product in relation with spending money on advertising TV, newspaper, radio in 200 different markets. \n",
    "- Response: Sales; thousands of units\n",
    "- Predictors: TV, radio, newspaper; thousands of dollars"
   ]
  },
  {
   "cell_type": "code",
   "execution_count": null,
   "metadata": {
    "scrolled": true
   },
   "outputs": [],
   "source": [
    "advertising = pd.read_csv('dataset/Advertising.csv', usecols=[1,2,3,4])\n",
    "#print(advertising.keys())\n",
    "#advertising.info()\n",
    "advertising.describe()"
   ]
  },
  {
   "cell_type": "code",
   "execution_count": null,
   "metadata": {},
   "outputs": [],
   "source": [
    "advertising.head(3) #show 3 first rows"
   ]
  },
  {
   "cell_type": "markdown",
   "metadata": {},
   "source": [
    "## Coefficient estimates from data: least squares fitting\n",
    "\n",
    "Predict sales (response variable) by considering as predictor variable the TV advertisiment budget. The linear model will be: \n",
    "\n",
    "$$\n",
    "sales \\sim \\beta_0 +\\beta_1 TV\n",
    "$$\n",
    "\n",
    "We want to use our training data (predictor advertising.TV and response advertising.sales) to calculate the estimates for both regression parameters. \n",
    "\n",
    "Minimize the RSS (residual sum of squares): \n",
    "\n",
    "$$\n",
    "\\min_{\\beta_0,\\beta_1} \\sum_{i=1}^n (y_i - \\hat{y}_i )^2 \n",
    "$$\n",
    "\n",
    "where\n",
    "\n",
    "$$\n",
    "y_i - \\hat{y}_i  = y_i - (\\beta_0 +\\beta_1 TV)\n",
    "$$\n",
    "\n",
    "Using the sns.regplot function we can plot directly the linear fitting that we are looking for. We want to find the two coefficients such that the resulting line is as close as possible to the 200 data points. "
   ]
  },
  {
   "cell_type": "code",
   "execution_count": null,
   "metadata": {},
   "outputs": [],
   "source": [
    "plt.figure(figsize=(5, 5))\n",
    "sns.regplot(advertising.TV, advertising.sales, order=1, ci=None, scatter_kws={'color':'r'})\n",
    "plt.xlim(-10,310)\n",
    "plt.ylim(ymin=0);"
   ]
  },
  {
   "cell_type": "markdown",
   "metadata": {},
   "source": [
    "In the previous plot the distances between the red points and the line are the errors made by the linear model. As the TV increase the line is less accurate. \n",
    "\n",
    "In order to calculate the model parameters (estimates of the coefficients) using least squares fitting we can do the following:"
   ]
  },
  {
   "cell_type": "code",
   "execution_count": null,
   "metadata": {},
   "outputs": [],
   "source": [
    "# Regression coefficients \n",
    "\n",
    "#Data: Predictor and Response\n",
    "#x_TV = scale(advertising.TV, with_mean=True, with_std=False).reshape(-1,1)#one column unknown nb of rows\n",
    "x_TV = advertising.TV.values.reshape(-1, 1)#one column unknown nb of rows\n",
    "y_sales = advertising.sales\n",
    "\n",
    "#Load the model (Ordinary Least Squares)\n",
    "regr_model = skl_lm.LinearRegression() \n",
    "\n",
    "#Fit the model with data\n",
    "regr_model.fit(x_TV,y_sales) \n",
    "\n",
    "# Coefficients estimates\n",
    "beta_0 = regr_model.intercept_\n",
    "beta_1 = regr_model.coef_[0]\n",
    "\n",
    "print('beta_0', beta_0)\n",
    "print('beta_1', beta_1)\n",
    "\n",
    "#Predict \"new\" values with the model\n",
    "x_TV_pred = np.asarray([50, 100, 200]).reshape(-1, 1)\n",
    "y_sales_pred = regr_model.predict(x_TV_pred)\n",
    "\n",
    "print('y_sales_pred', y_sales_pred)\n"
   ]
  }
 ],
 "metadata": {
  "kernelspec": {
   "display_name": "Python 3",
   "language": "python",
   "name": "python3"
  },
  "language_info": {
   "codemirror_mode": {
    "name": "ipython",
    "version": 3
   },
   "file_extension": ".py",
   "mimetype": "text/x-python",
   "name": "python",
   "nbconvert_exporter": "python",
   "pygments_lexer": "ipython3",
   "version": "3.6.5"
  }
 },
 "nbformat": 4,
 "nbformat_minor": 2
}
