{
 "cells": [
  {
   "cell_type": "markdown",
   "metadata": {},
   "source": [
    "# Regression: Lasso\n",
    "\n",
    "Introduction to Machine Learning, BCAM & UPV/EHU course, by Carlos Cernuda, Ekhine Irurozki and Aritz Perez.\n",
    "\n",
    "\n",
    "## References \n",
    "\n",
    "* James, G., Witten, D., Hastie, T., & Tibshirani, R. (2013). \n",
    "An introduction to statistical learning (Vol. 112). New York: springer.\n",
    "* Data sets: http://www-bcf.usc.edu/~gareth/ISL/data.html\n",
    "* SCIKIT-LEARN library example http://scikit-learn.org\n",
    "* References Jupyter notebooks:\n",
    "    - R. Jordan Crouser at Smith College for SDS293: Machine Learning (Spring 2016)\n",
    "    http://www.science.smith.edu/~jcrouser/SDS293/labs/lab10-py.html\n",
    "    - General Assembly's Data Science course in Washington, DC\n",
    "    https://github.com/justmarkham/DAT4\n",
    "    - An Introduction to Statistical Learning (James, Witten, Hastie, Tibshirani, 2013) adapted to Python code\n",
    "    https://github.com/JWarmenhoven/ISLR-python"
   ]
  },
  {
   "cell_type": "code",
   "execution_count": 1,
   "metadata": {},
   "outputs": [],
   "source": [
    "##########################################################\n",
    "import numpy as np #scientific computing (n-dim arrays, etc)\n",
    "import pandas as pd #data analysis library\n",
    "##########################################################\n",
    "# Plots:\n",
    "import matplotlib.pyplot as plt \n",
    "import matplotlib.pylab as pylab\n",
    "import seaborn as sns #visualization library based on matplotlib\n",
    "%matplotlib inline\n",
    "plt.style.use(['seaborn-white'])   \n",
    "params = {'legend.fontsize': 'xx-large',\n",
    "              'figure.figsize': (15, 5),\n",
    "              'axes.labelsize': 'xx-large',\n",
    "              'axes.titlesize':'xx-large',\n",
    "              'xtick.labelsize':'xx-large',\n",
    "              'ytick.labelsize':'xx-large'}    \n",
    "pylab.rcParams.update(params)  #fix the parameters for the plots\n",
    "\n",
    "pd.set_option('display.notebook_repr_html', False)\n",
    "##########################################################\n",
    "# SKLEARN: scikit-learn machine learning tools\n",
    "from sklearn.preprocessing import scale ###Standardize a dataset \n",
    "import sklearn.linear_model as skl_lm ###linear model regression\n",
    "from sklearn.model_selection import train_test_split #Split arrays or matrices into random train and test subsets\n",
    "from sklearn.metrics import mean_squared_error\n",
    "##########################################################\n",
    "np.random.seed(0)"
   ]
  },
  {
   "cell_type": "markdown",
   "metadata": {},
   "source": [
    "## Data set: Hitters\n",
    "Hitters data set: Records and salaries for baseball players.\n",
    "\n",
    "* baseball player’s Salary (measured in thousands of dollars)\n",
    "* Years (the number of years that he has played in the major leagues)\n",
    "* Hits (the number of hits that he made in the previous year)"
   ]
  },
  {
   "cell_type": "code",
   "execution_count": 2,
   "metadata": {},
   "outputs": [
    {
     "data": {
      "text/plain": [
       "            AtBat        Hits       HmRun        Runs         RBI       Walks  \\\n",
       "count  263.000000  263.000000  263.000000  263.000000  263.000000  263.000000   \n",
       "mean   403.642586  107.828897   11.619772   54.745247   51.486692   41.114068   \n",
       "std    147.307209   45.125326    8.757108   25.539816   25.882714   21.718056   \n",
       "min     19.000000    1.000000    0.000000    0.000000    0.000000    0.000000   \n",
       "25%    282.500000   71.500000    5.000000   33.500000   30.000000   23.000000   \n",
       "50%    413.000000  103.000000    9.000000   52.000000   47.000000   37.000000   \n",
       "75%    526.000000  141.500000   18.000000   73.000000   71.000000   57.000000   \n",
       "max    687.000000  238.000000   40.000000  130.000000  121.000000  105.000000   \n",
       "\n",
       "            Years        CAtBat        CHits      CHmRun        CRuns  \\\n",
       "count  263.000000    263.000000   263.000000  263.000000   263.000000   \n",
       "mean     7.311787   2657.543726   722.186312   69.239544   361.220532   \n",
       "std      4.793616   2286.582929   648.199644   82.197581   331.198571   \n",
       "min      1.000000     19.000000     4.000000    0.000000     2.000000   \n",
       "25%      4.000000    842.500000   212.000000   15.000000   105.500000   \n",
       "50%      6.000000   1931.000000   516.000000   40.000000   250.000000   \n",
       "75%     10.000000   3890.500000  1054.000000   92.500000   497.500000   \n",
       "max     24.000000  14053.000000  4256.000000  548.000000  2165.000000   \n",
       "\n",
       "              CRBI       CWalks      PutOuts     Assists      Errors  \\\n",
       "count   263.000000   263.000000   263.000000  263.000000  263.000000   \n",
       "mean    330.418251   260.266160   290.711027  118.760456    8.593156   \n",
       "std     323.367668   264.055868   279.934575  145.080577    6.606574   \n",
       "min       3.000000     1.000000     0.000000    0.000000    0.000000   \n",
       "25%      95.000000    71.000000   113.500000    8.000000    3.000000   \n",
       "50%     230.000000   174.000000   224.000000   45.000000    7.000000   \n",
       "75%     424.500000   328.500000   322.500000  192.000000   13.000000   \n",
       "max    1659.000000  1566.000000  1377.000000  492.000000   32.000000   \n",
       "\n",
       "            Salary  \n",
       "count   263.000000  \n",
       "mean    535.925882  \n",
       "std     451.118681  \n",
       "min      67.500000  \n",
       "25%     190.000000  \n",
       "50%     425.000000  \n",
       "75%     750.000000  \n",
       "max    2460.000000  "
      ]
     },
     "execution_count": 2,
     "metadata": {},
     "output_type": "execute_result"
    }
   ],
   "source": [
    "hitters = pd.read_csv('dataset/Hitters.csv', index_col=0).dropna()\n",
    "#removes all of the rows that have missing values in any variable\n",
    "hitters.describe()"
   ]
  },
  {
   "cell_type": "code",
   "execution_count": 3,
   "metadata": {},
   "outputs": [
    {
     "data": {
      "text/plain": [
       "               AtBat  Hits  HmRun  Runs  RBI  Walks  Years  CAtBat  CHits  \\\n",
       "-Alan Ashby      315    81      7    24   38     39     14    3449    835   \n",
       "-Alvin Davis     479   130     18    66   72     76      3    1624    457   \n",
       "-Andre Dawson    496   141     20    65   78     37     11    5628   1575   \n",
       "\n",
       "               CHmRun  CRuns  CRBI  CWalks League Division  PutOuts  Assists  \\\n",
       "-Alan Ashby        69    321   414     375      N        W      632       43   \n",
       "-Alvin Davis       63    224   266     263      A        W      880       82   \n",
       "-Andre Dawson     225    828   838     354      N        E      200       11   \n",
       "\n",
       "               Errors  Salary NewLeague  \n",
       "-Alan Ashby        10   475.0         N  \n",
       "-Alvin Davis       14   480.0         A  \n",
       "-Andre Dawson       3   500.0         N  "
      ]
     },
     "execution_count": 3,
     "metadata": {},
     "output_type": "execute_result"
    }
   ],
   "source": [
    "hitters.head(3)"
   ]
  },
  {
   "cell_type": "markdown",
   "metadata": {},
   "source": [
    "## Dummy Predictor Variables"
   ]
  },
  {
   "cell_type": "code",
   "execution_count": 4,
   "metadata": {},
   "outputs": [],
   "source": [
    "# Prepare the response and predictor variables\n",
    "# Response variable\n",
    "y_salary = hitters.Salary"
   ]
  },
  {
   "cell_type": "code",
   "execution_count": 5,
   "metadata": {},
   "outputs": [
    {
     "data": {
      "text/plain": [
       "               League_A  League_N  Division_E  Division_W  NewLeague_A  \\\n",
       "-Alan Ashby           0         1           0           1            0   \n",
       "-Alvin Davis          1         0           0           1            1   \n",
       "-Andre Dawson         0         1           1           0            0   \n",
       "\n",
       "               NewLeague_N  \n",
       "-Alan Ashby              1  \n",
       "-Alvin Davis             0  \n",
       "-Andre Dawson            1  "
      ]
     },
     "execution_count": 5,
     "metadata": {},
     "output_type": "execute_result"
    }
   ],
   "source": [
    "# Predictor variables\n",
    "\n",
    "# Add dummy variables\n",
    "# League A/N\n",
    "# Division East West\n",
    "# NewLeague A/N\n",
    "dummies = pd.get_dummies(hitters[['League', 'Division', 'NewLeague']])\n",
    "#dummies.describe()\n",
    "dummies.head(3)"
   ]
  },
  {
   "cell_type": "code",
   "execution_count": 6,
   "metadata": {},
   "outputs": [
    {
     "data": {
      "text/plain": [
       "               AtBat   Hits  HmRun  Runs   RBI  Walks  Years  CAtBat   CHits  \\\n",
       "-Alan Ashby    315.0   81.0    7.0  24.0  38.0   39.0   14.0  3449.0   835.0   \n",
       "-Alvin Davis   479.0  130.0   18.0  66.0  72.0   76.0    3.0  1624.0   457.0   \n",
       "-Andre Dawson  496.0  141.0   20.0  65.0  78.0   37.0   11.0  5628.0  1575.0   \n",
       "\n",
       "               CHmRun  CRuns   CRBI  CWalks  PutOuts  Assists  Errors  \\\n",
       "-Alan Ashby      69.0  321.0  414.0   375.0    632.0     43.0    10.0   \n",
       "-Alvin Davis     63.0  224.0  266.0   263.0    880.0     82.0    14.0   \n",
       "-Andre Dawson   225.0  828.0  838.0   354.0    200.0     11.0     3.0   \n",
       "\n",
       "               League_N  Division_W  NewLeague_N  \n",
       "-Alan Ashby           1           1            1  \n",
       "-Alvin Davis          0           1            0  \n",
       "-Andre Dawson         1           0            1  "
      ]
     },
     "execution_count": 6,
     "metadata": {},
     "output_type": "execute_result"
    }
   ],
   "source": [
    "# Delete the column with the independent variable (Salary), and change columns for which we created dummy variables\n",
    "x_predictors_ = hitters.drop(['Salary', 'League', 'Division', 'NewLeague'], axis=1).astype('float64')\n",
    "# Include the new dummy variables\n",
    "x_predictors = pd.concat([x_predictors_, dummies[['League_N', 'Division_W', 'NewLeague_N']]], axis=1)\n",
    "#x_predictors.describe()\n",
    "x_predictors.head(3)"
   ]
  },
  {
   "cell_type": "markdown",
   "metadata": {},
   "source": [
    "## Train and Test \n",
    "\n",
    "We now split the samples into a TRAIN set and a TEST set in order\n",
    "to estimate later on the test error of lasso regression and select the parameter using cross-validation."
   ]
  },
  {
   "cell_type": "code",
   "execution_count": 7,
   "metadata": {},
   "outputs": [],
   "source": [
    "# Split data into training and test sets\n",
    "# (Fct) Split arrays or matrices into random train and test subsets\n",
    "X_train, X_test , y_train, y_test = train_test_split(x_predictors, y_salary, test_size=0.5, random_state=1)\n",
    "\n",
    "# test_size: represent the proportion of the dataset to include in the test split\n",
    "# random_state: is the seed used by the random number generator"
   ]
  },
  {
   "cell_type": "markdown",
   "metadata": {},
   "source": [
    "## Lasso fitting method\n",
    "### Fix lasso parameter by using a uniform grid\n",
    "We will generate an array of alpha values ranging from very big to very small, essentially\n",
    "covering the full range of scenarios from the null model containing\n",
    "only the intercept:"
   ]
  },
  {
   "cell_type": "code",
   "execution_count": 8,
   "metadata": {},
   "outputs": [
    {
     "name": "stdout",
     "output_type": "stream",
     "text": [
      "(100,)\n",
      "0.01\n",
      "10000000000.0\n"
     ]
    }
   ],
   "source": [
    "lambdas = 2*10**np.linspace(10,-2,100)*0.5\n",
    "print(lambdas.shape)\n",
    "print(min(lambdas))\n",
    "print(max(lambdas))"
   ]
  },
  {
   "cell_type": "markdown",
   "metadata": {},
   "source": [
    "Associated with each alpha value is a vector of Lasso regression coefficients, which we will\n",
    "store in a matrix called `coefs`. In this case, it is a $19 \\times 100$\n",
    "matrix, with 19 rows (one for each predictor) and 100\n",
    "columns (one for each value of alpha). \n",
    "\n",
    "We will want to standardize the\n",
    "variables so that they are on the same scale. To do this, we can use the\n",
    "`normalize = True` parameter:"
   ]
  },
  {
   "cell_type": "code",
   "execution_count": 9,
   "metadata": {},
   "outputs": [],
   "source": [
    "# Load the model\n",
    "regr_model_lasso = skl_lm.Lasso(max_iter=10000, normalize=True)"
   ]
  },
  {
   "cell_type": "code",
   "execution_count": 10,
   "metadata": {},
   "outputs": [],
   "source": [
    "coefs = []\n",
    "for a in lambdas:\n",
    "    regr_model_lasso.set_params(alpha=a)\n",
    "    regr_model_lasso.fit(scale(X_train), y_train)\n",
    "    coefs.append(regr_model_lasso.coef_)\n",
    "\n",
    "#scale(X_train)\n",
    "#from sklearn.preprocessing import scale\n",
    "#Standardize a dataset along any axis\n",
    "#Center to the mean and component wise scale to unit variance."
   ]
  },
  {
   "cell_type": "code",
   "execution_count": 11,
   "metadata": {},
   "outputs": [
    {
     "data": {
      "text/plain": [
       "(100, 19)"
      ]
     },
     "execution_count": 11,
     "metadata": {},
     "output_type": "execute_result"
    }
   ],
   "source": [
    "np.shape(coefs)"
   ]
  },
  {
   "cell_type": "markdown",
   "metadata": {},
   "source": [
    "We expect the coefficient estimates to be much smaller, in terms of $l_1$ norm,\n",
    "when a large value of alpha is used, as compared to when a small value of alpha is\n",
    "used. Let's plot and find out:"
   ]
  },
  {
   "cell_type": "code",
   "execution_count": 12,
   "metadata": {},
   "outputs": [
    {
     "data": {
      "image/png": "[encoded data removed]",
      "text/plain": [
       "<Figure size 576x576 with 1 Axes>"
      ]
     },
     "metadata": {},
     "output_type": "display_data"
    }
   ],
   "source": [
    "# PLOT\n",
    "# x axis: grid values of lambda (log scale to see something)\n",
    "# y axis \n",
    "plt.figure(figsize=(8, 8))\n",
    "ax = plt.gca()\n",
    "ax.plot(lambdas, coefs) \n",
    "ax.set_xscale('log') \n",
    "plt.axis('tight')\n",
    "plt.xlabel('log lambda')\n",
    "plt.ylabel('Lasso weights')\n",
    "plt.title('Lasso coefficients as a function of the regularization');"
   ]
  },
  {
   "cell_type": "markdown",
   "metadata": {},
   "source": [
    "### Select the best parameter value\n",
    "Notice that in the coefficient plot that depending on the choice of the $\\lambda$\n",
    "parameter, some of the coefficients are exactly equal to zero. \n",
    "\n",
    "In order to select the best $\\lambda$ (that is, the best lasso model). We perform a K-fold cross-validation with $K=10$."
   ]
  },
  {
   "cell_type": "code",
   "execution_count": null,
   "metadata": {},
   "outputs": [],
   "source": [
    "#Select the best Lambda Parameter (MODEL)\n",
    "# Scikit Learn sklearn.linear_model.LassoCV.\n",
    "#Lasso linear model with iterative fitting along a regularization path\n",
    "#The best model is selected by cross-validation.\n",
    "\n",
    "regr_model_lassocv = skl_lm.LassoCV(alphas = None, cv = 10, max_iter = 100000, normalize = True)\n",
    "regr_model_lassocv.fit(X_train, y_train)\n",
    "\n",
    "#alphas = None; If None alphas are set automatically\n",
    "#cv : int, integer, to specify the number of folds.\n",
    "#max_iter:  The maximum number of iterations\n",
    "#normalize = True; X will be normalized before regression by subtracting the mean and dividing by the l2-norm.\n",
    "\n",
    "#Value of the lambda parameter obtained\n",
    "print(regr_model_lassocv.alpha_)"
   ]
  },
  {
   "cell_type": "code",
   "execution_count": null,
   "metadata": {},
   "outputs": [],
   "source": [
    "# Some of the coefficients are now reduced to exactly zero.\n",
    "pd.Series(regr_model_lasso.coef_, index=x_predictors.columns)"
   ]
  },
  {
   "cell_type": "markdown",
   "metadata": {},
   "source": [
    "### Check the Mean Squared predictive error\n",
    "\n",
    "Fit the model with the TRAIN data and then test the error obtained over the TEST data.\n",
    "\n",
    "$$\n",
    "MSE=\\frac{1}{N-n}\\sum_{i=n+1}^N y_i -\\hat{y}_i\n",
    "$$"
   ]
  },
  {
   "cell_type": "code",
   "execution_count": null,
   "metadata": {},
   "outputs": [],
   "source": [
    "# Error with the Best lambda\n",
    "regr_model_lasso.set_params(alpha=regr_model_lassocv.alpha_)\n",
    "regr_model_lasso.fit(X_train, y_train);\n",
    "mean_squared_error(y_test, regr_model_lasso.predict(X_test))"
   ]
  },
  {
   "cell_type": "code",
   "execution_count": null,
   "metadata": {},
   "outputs": [],
   "source": [
    "# Error is bigger with the 1st lambda of the grid\n",
    "regr_model_lasso.set_params(alpha=lambdas[-1])\n",
    "regr_model_lasso.fit(X_train, y_train)\n",
    "mean_squared_error(y_test, regr_model_lasso.predict(X_test))"
   ]
  },
  {
   "cell_type": "code",
   "execution_count": null,
   "metadata": {},
   "outputs": [],
   "source": [
    "# Error is bigger with the last lambda of the grid\n",
    "regr_model_lasso.set_params(alpha=lambdas[0])\n",
    "regr_model_lasso.fit(X_train, y_train)\n",
    "mean_squared_error(y_test, regr_model_lasso.predict(X_test))"
   ]
  }
 ],
 "metadata": {
  "kernelspec": {
   "display_name": "Python 3",
   "language": "python",
   "name": "python3"
  },
  "language_info": {
   "codemirror_mode": {
    "name": "ipython",
    "version": 3
   },
   "file_extension": ".py",
   "mimetype": "text/x-python",
   "name": "python",
   "nbconvert_exporter": "python",
   "pygments_lexer": "ipython3",
   "version": "3.6.5"
  }
 },
 "nbformat": 4,
 "nbformat_minor": 2
}
